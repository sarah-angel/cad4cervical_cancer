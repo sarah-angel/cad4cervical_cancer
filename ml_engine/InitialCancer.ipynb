{
 "cells": [
  {
   "cell_type": "code",
   "execution_count": 1,
   "metadata": {},
   "outputs": [],
   "source": [
    "import pandas as pd\n",
    "import numpy as np\n",
    "import matplotlib.pyplot as plt\n",
    "import pylab as pl\n",
    "#from pandas_profiling import ProfileReport\n",
    "from sklearn import preprocessing\n",
    "from sklearn.metrics import classification_report,confusion_matrix,accuracy_score\n",
    "import seaborn as sns\n",
    "from pandas.io.json import json_normalize \n",
    "from sklearn.neighbors import KNeighborsClassifier\n",
    "from sklearn.ensemble import RandomForestClassifier\n",
    "from sklearn.svm import SVC\n",
    "from sklearn import svm\n",
    "import datetime\n",
    "pd.set_option('display.max_columns', None)\n",
    "pd.set_option('display.max_rows', None)\n",
    "import math\n",
    "%matplotlib inline"
   ]
  },
  {
   "cell_type": "code",
   "execution_count": 2,
   "metadata": {},
   "outputs": [],
   "source": [
    "cancer=pd.read_csv('elsa_cervical_data.csv')"
   ]
  },
  {
   "cell_type": "code",
   "execution_count": 3,
   "metadata": {
    "scrolled": true
   },
   "outputs": [
    {
     "name": "stdout",
     "output_type": "stream",
     "text": [
      "<class 'pandas.core.frame.DataFrame'>\n",
      "RangeIndex: 1847 entries, 0 to 1846\n",
      "Data columns (total 84 columns):\n",
      "Unnamed: 0                            1847 non-null int64\n",
      "age                                   1847 non-null object\n",
      "alcohol                               1847 non-null object\n",
      "cervicalCancer                        1847 non-null bool\n",
      "cervicalCancerType                    1847 non-null object\n",
      "children                              1847 non-null object\n",
      "date                                  1847 non-null object\n",
      "existing_conditions                   1426 non-null object\n",
      "family_history                        1847 non-null object\n",
      "gender                                1847 non-null object\n",
      "height                                1847 non-null object\n",
      "region                                1845 non-null object\n",
      "smokes                                1847 non-null object\n",
      "symptomDuration                       1320 non-null object\n",
      "symptoms                              0 non-null float64\n",
      "temperature                           1847 non-null object\n",
      "tests                                 0 non-null float64\n",
      "weight                                1847 non-null object\n",
      "baso                                  1402 non-null float64\n",
      "bilirubin                             207 non-null float64\n",
      "creatinine                            282 non-null float64\n",
      "eos                                   1403 non-null float64\n",
      "epithelial                            1 non-null float64\n",
      "hb                                    1408 non-null float64\n",
      "lymphocyte                            1415 non-null float64\n",
      "mch                                   1412 non-null float64\n",
      "mcv                                   1415 non-null float64\n",
      "neutrophil                            1394 non-null float64\n",
      "ph                                    2 non-null float64\n",
      "plt                                   1409 non-null float64\n",
      "protein                               155 non-null float64\n",
      "rbc                                   1412 non-null float64\n",
      "urea                                  293 non-null float64\n",
      "uric-acid                             178 non-null float64\n",
      "wbc                                   1411 non-null float64\n",
      "alt                                   21 non-null object\n",
      "ast                                   20 non-null float64\n",
      "chest-x-ray                           897 non-null object\n",
      "hiv                                   509 non-null object\n",
      "hpv                                   1 non-null object\n",
      "mri                                   2 non-null object\n",
      "random-blood-glucose-rbg              0 non-null float64\n",
      "ultrasound                            1546 non-null object\n",
      "prolonged vaginal bleeding            672 non-null object\n",
      "back pain                             356 non-null object\n",
      "weight loss                           7 non-null object\n",
      "nausea                                9 non-null object\n",
      "pain during sexual intercourse        9 non-null object\n",
      "abdominal pain                        117 non-null object\n",
      "vaginal discharge                     784 non-null object\n",
      "vomiting                              25 non-null object\n",
      "abnormal bleeding                     302 non-null object\n",
      "lower abdominal pain                  1184 non-null object\n",
      "post menopausal bleeding              839 non-null object\n",
      "prolonged vaginal watery discharge    312 non-null object\n",
      "difficulty passing stool              48 non-null object\n",
      "fever                                 11 non-null object\n",
      "cough                                 84 non-null object\n",
      "difficulty micturation                67 non-null object\n",
      "chest pain                            51 non-null object\n",
      "lower back pain                       332 non-null object\n",
      "frequent micturation                  50 non-null object\n",
      "waist pain                            242 non-null object\n",
      "pelvic pain                           11 non-null object\n",
      "lower limbs swelling                  23 non-null object\n",
      "fatigue                               23 non-null object\n",
      "swelling                              21 non-null object\n",
      "yellowish vaginal discharge           21 non-null object\n",
      "foul smelling discharge               365 non-null object\n",
      "post coital bleeding                  88 non-null object\n",
      "rectal bleeding                       5 non-null object\n",
      "constipation                          124 non-null object\n",
      "difficulty in breathing               35 non-null object\n",
      "occasional painful defecation         4 non-null object\n",
      "blood in urine                        2 non-null object\n",
      "headache                              17 non-null object\n",
      "palpitations                          10 non-null object\n",
      "vulva itching                         3 non-null object\n",
      "vaginal pain                          8 non-null object\n",
      "spot bleeding                         2 non-null object\n",
      "metromenorrhagia                      5 non-null object\n",
      "lower lumbs swelling                  3 non-null float64\n",
      "pervic pain                           3 non-null float64\n",
      "polpitations                          3 non-null float64\n",
      "dtypes: bool(1), float64(24), int64(1), object(58)\n",
      "memory usage: 1.2+ MB\n"
     ]
    }
   ],
   "source": [
    "cancer.info()"
   ]
  },
  {
   "cell_type": "code",
   "execution_count": 134,
   "metadata": {},
   "outputs": [
    {
     "data": {
      "text/html": [
       "<div>\n",
       "<style scoped>\n",
       "    .dataframe tbody tr th:only-of-type {\n",
       "        vertical-align: middle;\n",
       "    }\n",
       "\n",
       "    .dataframe tbody tr th {\n",
       "        vertical-align: top;\n",
       "    }\n",
       "\n",
       "    .dataframe thead th {\n",
       "        text-align: right;\n",
       "    }\n",
       "</style>\n",
       "<table border=\"1\" class=\"dataframe\">\n",
       "  <thead>\n",
       "    <tr style=\"text-align: right;\">\n",
       "      <th>existing_conditions</th>\n",
       "      <th>['diabetes', 'none']</th>\n",
       "      <th>['diabetes']</th>\n",
       "      <th>['hypertension', 'diabetes', 'none']</th>\n",
       "      <th>['hypertension', 'diabetes', 'tb', 'none']</th>\n",
       "      <th>['hypertension', 'diabetes']</th>\n",
       "      <th>['hypertension', 'none']</th>\n",
       "      <th>['hypertension']</th>\n",
       "      <th>['none']</th>\n",
       "      <th>['other-cancers', 'none']</th>\n",
       "      <th>['other-cancers']</th>\n",
       "    </tr>\n",
       "    <tr>\n",
       "      <th>cervicalCancer</th>\n",
       "      <th></th>\n",
       "      <th></th>\n",
       "      <th></th>\n",
       "      <th></th>\n",
       "      <th></th>\n",
       "      <th></th>\n",
       "      <th></th>\n",
       "      <th></th>\n",
       "      <th></th>\n",
       "      <th></th>\n",
       "    </tr>\n",
       "  </thead>\n",
       "  <tbody>\n",
       "    <tr>\n",
       "      <th>False</th>\n",
       "      <td>0</td>\n",
       "      <td>0</td>\n",
       "      <td>0</td>\n",
       "      <td>0</td>\n",
       "      <td>1</td>\n",
       "      <td>0</td>\n",
       "      <td>0</td>\n",
       "      <td>636</td>\n",
       "      <td>0</td>\n",
       "      <td>0</td>\n",
       "    </tr>\n",
       "    <tr>\n",
       "      <th>True</th>\n",
       "      <td>1</td>\n",
       "      <td>2</td>\n",
       "      <td>2</td>\n",
       "      <td>1</td>\n",
       "      <td>2</td>\n",
       "      <td>2</td>\n",
       "      <td>5</td>\n",
       "      <td>771</td>\n",
       "      <td>2</td>\n",
       "      <td>1</td>\n",
       "    </tr>\n",
       "  </tbody>\n",
       "</table>\n",
       "</div>"
      ],
      "text/plain": [
       "existing_conditions  ['diabetes', 'none']  ['diabetes']  \\\n",
       "cervicalCancer                                            \n",
       "False                                   0             0   \n",
       "True                                    1             2   \n",
       "\n",
       "existing_conditions  ['hypertension', 'diabetes', 'none']  \\\n",
       "cervicalCancer                                              \n",
       "False                                                   0   \n",
       "True                                                    2   \n",
       "\n",
       "existing_conditions  ['hypertension', 'diabetes', 'tb', 'none']  \\\n",
       "cervicalCancer                                                    \n",
       "False                                                         0   \n",
       "True                                                          1   \n",
       "\n",
       "existing_conditions  ['hypertension', 'diabetes']  ['hypertension', 'none']  \\\n",
       "cervicalCancer                                                                \n",
       "False                                           1                         0   \n",
       "True                                            2                         2   \n",
       "\n",
       "existing_conditions  ['hypertension']  ['none']  ['other-cancers', 'none']  \\\n",
       "cervicalCancer                                                               \n",
       "False                               0       636                          0   \n",
       "True                                5       771                          2   \n",
       "\n",
       "existing_conditions  ['other-cancers']  \n",
       "cervicalCancer                          \n",
       "False                                0  \n",
       "True                                 1  "
      ]
     },
     "execution_count": 134,
     "metadata": {},
     "output_type": "execute_result"
    }
   ],
   "source": [
    "#cancer['pain during sexual intercourse'].value_counts()\n",
    "#cancer['back pain'].isna().sum()\n",
    "#cancer.head(300)\n",
    "#cancer.cervicalCancer.where(cancer['prolonged vaginal bleeding'] == True).value_counts()\n",
    "pd.crosstab(cancer.cervicalCancer, cancer['existing_conditions'])"
   ]
  },
  {
   "cell_type": "code",
   "execution_count": 4,
   "metadata": {},
   "outputs": [
    {
     "data": {
      "text/html": [
       "<div>\n",
       "<style scoped>\n",
       "    .dataframe tbody tr th:only-of-type {\n",
       "        vertical-align: middle;\n",
       "    }\n",
       "\n",
       "    .dataframe tbody tr th {\n",
       "        vertical-align: top;\n",
       "    }\n",
       "\n",
       "    .dataframe thead th {\n",
       "        text-align: right;\n",
       "    }\n",
       "</style>\n",
       "<table border=\"1\" class=\"dataframe\">\n",
       "  <thead>\n",
       "    <tr style=\"text-align: right;\">\n",
       "      <th></th>\n",
       "      <th>Unnamed: 0</th>\n",
       "      <th>symptoms</th>\n",
       "      <th>tests</th>\n",
       "      <th>baso</th>\n",
       "      <th>bilirubin</th>\n",
       "      <th>creatinine</th>\n",
       "      <th>eos</th>\n",
       "      <th>epithelial</th>\n",
       "      <th>hb</th>\n",
       "      <th>lymphocyte</th>\n",
       "      <th>mch</th>\n",
       "      <th>mcv</th>\n",
       "      <th>neutrophil</th>\n",
       "      <th>ph</th>\n",
       "      <th>plt</th>\n",
       "      <th>protein</th>\n",
       "      <th>rbc</th>\n",
       "      <th>urea</th>\n",
       "      <th>uric-acid</th>\n",
       "      <th>wbc</th>\n",
       "      <th>ast</th>\n",
       "      <th>random-blood-glucose-rbg</th>\n",
       "      <th>lower lumbs swelling</th>\n",
       "      <th>pervic pain</th>\n",
       "      <th>polpitations</th>\n",
       "    </tr>\n",
       "  </thead>\n",
       "  <tbody>\n",
       "    <tr>\n",
       "      <th>count</th>\n",
       "      <td>1847.000000</td>\n",
       "      <td>0.0</td>\n",
       "      <td>0.0</td>\n",
       "      <td>1402.000000</td>\n",
       "      <td>207.000000</td>\n",
       "      <td>282.000000</td>\n",
       "      <td>1403.000000</td>\n",
       "      <td>1.0</td>\n",
       "      <td>1408.000000</td>\n",
       "      <td>1415.000000</td>\n",
       "      <td>1412.000000</td>\n",
       "      <td>1415.000000</td>\n",
       "      <td>1394.000000</td>\n",
       "      <td>2.000000</td>\n",
       "      <td>1409.000000</td>\n",
       "      <td>155.000000</td>\n",
       "      <td>1412.000000</td>\n",
       "      <td>293.000000</td>\n",
       "      <td>178.000000</td>\n",
       "      <td>1411.000000</td>\n",
       "      <td>20.000000</td>\n",
       "      <td>0.0</td>\n",
       "      <td>3.0</td>\n",
       "      <td>3.0</td>\n",
       "      <td>3.0</td>\n",
       "    </tr>\n",
       "    <tr>\n",
       "      <th>mean</th>\n",
       "      <td>923.000000</td>\n",
       "      <td>NaN</td>\n",
       "      <td>NaN</td>\n",
       "      <td>3.792951</td>\n",
       "      <td>5.085797</td>\n",
       "      <td>181.073014</td>\n",
       "      <td>9.989090</td>\n",
       "      <td>-1.0</td>\n",
       "      <td>19.298033</td>\n",
       "      <td>21.586947</td>\n",
       "      <td>23.997805</td>\n",
       "      <td>75.398304</td>\n",
       "      <td>65.561628</td>\n",
       "      <td>3.000000</td>\n",
       "      <td>347.223322</td>\n",
       "      <td>85.103871</td>\n",
       "      <td>4.204703</td>\n",
       "      <td>6.284403</td>\n",
       "      <td>164.515038</td>\n",
       "      <td>8.390057</td>\n",
       "      <td>45.740000</td>\n",
       "      <td>NaN</td>\n",
       "      <td>1.0</td>\n",
       "      <td>1.0</td>\n",
       "      <td>1.0</td>\n",
       "    </tr>\n",
       "    <tr>\n",
       "      <th>std</th>\n",
       "      <td>533.327292</td>\n",
       "      <td>NaN</td>\n",
       "      <td>NaN</td>\n",
       "      <td>43.858285</td>\n",
       "      <td>9.742102</td>\n",
       "      <td>421.004548</td>\n",
       "      <td>181.987612</td>\n",
       "      <td>NaN</td>\n",
       "      <td>34.639240</td>\n",
       "      <td>68.760127</td>\n",
       "      <td>9.815792</td>\n",
       "      <td>37.716637</td>\n",
       "      <td>18.462072</td>\n",
       "      <td>2.828427</td>\n",
       "      <td>131.973273</td>\n",
       "      <td>44.265085</td>\n",
       "      <td>8.582868</td>\n",
       "      <td>8.204584</td>\n",
       "      <td>153.889281</td>\n",
       "      <td>14.324152</td>\n",
       "      <td>76.589082</td>\n",
       "      <td>NaN</td>\n",
       "      <td>0.0</td>\n",
       "      <td>0.0</td>\n",
       "      <td>0.0</td>\n",
       "    </tr>\n",
       "    <tr>\n",
       "      <th>min</th>\n",
       "      <td>0.000000</td>\n",
       "      <td>NaN</td>\n",
       "      <td>NaN</td>\n",
       "      <td>0.000000</td>\n",
       "      <td>-0.480000</td>\n",
       "      <td>0.170000</td>\n",
       "      <td>0.000000</td>\n",
       "      <td>-1.0</td>\n",
       "      <td>1.300000</td>\n",
       "      <td>0.480000</td>\n",
       "      <td>8.700000</td>\n",
       "      <td>3.600000</td>\n",
       "      <td>0.350000</td>\n",
       "      <td>1.000000</td>\n",
       "      <td>2.730000</td>\n",
       "      <td>1.840000</td>\n",
       "      <td>0.090000</td>\n",
       "      <td>0.660000</td>\n",
       "      <td>0.172700</td>\n",
       "      <td>1.570000</td>\n",
       "      <td>10.490000</td>\n",
       "      <td>NaN</td>\n",
       "      <td>1.0</td>\n",
       "      <td>1.0</td>\n",
       "      <td>1.0</td>\n",
       "    </tr>\n",
       "    <tr>\n",
       "      <th>25%</th>\n",
       "      <td>461.500000</td>\n",
       "      <td>NaN</td>\n",
       "      <td>NaN</td>\n",
       "      <td>0.200000</td>\n",
       "      <td>0.285000</td>\n",
       "      <td>66.567500</td>\n",
       "      <td>1.540000</td>\n",
       "      <td>-1.0</td>\n",
       "      <td>7.700000</td>\n",
       "      <td>12.950000</td>\n",
       "      <td>20.200000</td>\n",
       "      <td>66.600000</td>\n",
       "      <td>59.000000</td>\n",
       "      <td>2.000000</td>\n",
       "      <td>262.000000</td>\n",
       "      <td>70.945000</td>\n",
       "      <td>3.100000</td>\n",
       "      <td>2.720000</td>\n",
       "      <td>6.385000</td>\n",
       "      <td>4.420000</td>\n",
       "      <td>18.000000</td>\n",
       "      <td>NaN</td>\n",
       "      <td>1.0</td>\n",
       "      <td>1.0</td>\n",
       "      <td>1.0</td>\n",
       "    </tr>\n",
       "    <tr>\n",
       "      <th>50%</th>\n",
       "      <td>923.000000</td>\n",
       "      <td>NaN</td>\n",
       "      <td>NaN</td>\n",
       "      <td>0.300000</td>\n",
       "      <td>2.350000</td>\n",
       "      <td>85.280000</td>\n",
       "      <td>2.800000</td>\n",
       "      <td>-1.0</td>\n",
       "      <td>9.700000</td>\n",
       "      <td>13.500000</td>\n",
       "      <td>23.450000</td>\n",
       "      <td>74.400000</td>\n",
       "      <td>71.000000</td>\n",
       "      <td>3.000000</td>\n",
       "      <td>346.000000</td>\n",
       "      <td>80.360000</td>\n",
       "      <td>3.710000</td>\n",
       "      <td>3.570000</td>\n",
       "      <td>179.650000</td>\n",
       "      <td>7.780000</td>\n",
       "      <td>21.105000</td>\n",
       "      <td>NaN</td>\n",
       "      <td>1.0</td>\n",
       "      <td>1.0</td>\n",
       "      <td>1.0</td>\n",
       "    </tr>\n",
       "    <tr>\n",
       "      <th>75%</th>\n",
       "      <td>1384.500000</td>\n",
       "      <td>NaN</td>\n",
       "      <td>NaN</td>\n",
       "      <td>0.400000</td>\n",
       "      <td>6.110000</td>\n",
       "      <td>115.952500</td>\n",
       "      <td>4.700000</td>\n",
       "      <td>-1.0</td>\n",
       "      <td>11.200000</td>\n",
       "      <td>23.950000</td>\n",
       "      <td>27.100000</td>\n",
       "      <td>79.150000</td>\n",
       "      <td>78.000000</td>\n",
       "      <td>4.000000</td>\n",
       "      <td>449.000000</td>\n",
       "      <td>91.525000</td>\n",
       "      <td>4.700000</td>\n",
       "      <td>5.400000</td>\n",
       "      <td>271.452500</td>\n",
       "      <td>10.285000</td>\n",
       "      <td>41.350000</td>\n",
       "      <td>NaN</td>\n",
       "      <td>1.0</td>\n",
       "      <td>1.0</td>\n",
       "      <td>1.0</td>\n",
       "    </tr>\n",
       "    <tr>\n",
       "      <th>max</th>\n",
       "      <td>1846.000000</td>\n",
       "      <td>NaN</td>\n",
       "      <td>NaN</td>\n",
       "      <td>868.000000</td>\n",
       "      <td>95.030000</td>\n",
       "      <td>4989.310000</td>\n",
       "      <td>6767.000000</td>\n",
       "      <td>-1.0</td>\n",
       "      <td>710.000000</td>\n",
       "      <td>2206.000000</td>\n",
       "      <td>337.000000</td>\n",
       "      <td>988.600000</td>\n",
       "      <td>95.800000</td>\n",
       "      <td>5.000000</td>\n",
       "      <td>1142.000000</td>\n",
       "      <td>322.040000</td>\n",
       "      <td>324.000000</td>\n",
       "      <td>56.000000</td>\n",
       "      <td>631.140000</td>\n",
       "      <td>512.000000</td>\n",
       "      <td>363.500000</td>\n",
       "      <td>NaN</td>\n",
       "      <td>1.0</td>\n",
       "      <td>1.0</td>\n",
       "      <td>1.0</td>\n",
       "    </tr>\n",
       "  </tbody>\n",
       "</table>\n",
       "</div>"
      ],
      "text/plain": [
       "        Unnamed: 0  symptoms  tests         baso   bilirubin   creatinine  \\\n",
       "count  1847.000000       0.0    0.0  1402.000000  207.000000   282.000000   \n",
       "mean    923.000000       NaN    NaN     3.792951    5.085797   181.073014   \n",
       "std     533.327292       NaN    NaN    43.858285    9.742102   421.004548   \n",
       "min       0.000000       NaN    NaN     0.000000   -0.480000     0.170000   \n",
       "25%     461.500000       NaN    NaN     0.200000    0.285000    66.567500   \n",
       "50%     923.000000       NaN    NaN     0.300000    2.350000    85.280000   \n",
       "75%    1384.500000       NaN    NaN     0.400000    6.110000   115.952500   \n",
       "max    1846.000000       NaN    NaN   868.000000   95.030000  4989.310000   \n",
       "\n",
       "               eos  epithelial           hb   lymphocyte          mch  \\\n",
       "count  1403.000000         1.0  1408.000000  1415.000000  1412.000000   \n",
       "mean      9.989090        -1.0    19.298033    21.586947    23.997805   \n",
       "std     181.987612         NaN    34.639240    68.760127     9.815792   \n",
       "min       0.000000        -1.0     1.300000     0.480000     8.700000   \n",
       "25%       1.540000        -1.0     7.700000    12.950000    20.200000   \n",
       "50%       2.800000        -1.0     9.700000    13.500000    23.450000   \n",
       "75%       4.700000        -1.0    11.200000    23.950000    27.100000   \n",
       "max    6767.000000        -1.0   710.000000  2206.000000   337.000000   \n",
       "\n",
       "               mcv   neutrophil        ph          plt     protein  \\\n",
       "count  1415.000000  1394.000000  2.000000  1409.000000  155.000000   \n",
       "mean     75.398304    65.561628  3.000000   347.223322   85.103871   \n",
       "std      37.716637    18.462072  2.828427   131.973273   44.265085   \n",
       "min       3.600000     0.350000  1.000000     2.730000    1.840000   \n",
       "25%      66.600000    59.000000  2.000000   262.000000   70.945000   \n",
       "50%      74.400000    71.000000  3.000000   346.000000   80.360000   \n",
       "75%      79.150000    78.000000  4.000000   449.000000   91.525000   \n",
       "max     988.600000    95.800000  5.000000  1142.000000  322.040000   \n",
       "\n",
       "               rbc        urea   uric-acid          wbc         ast  \\\n",
       "count  1412.000000  293.000000  178.000000  1411.000000   20.000000   \n",
       "mean      4.204703    6.284403  164.515038     8.390057   45.740000   \n",
       "std       8.582868    8.204584  153.889281    14.324152   76.589082   \n",
       "min       0.090000    0.660000    0.172700     1.570000   10.490000   \n",
       "25%       3.100000    2.720000    6.385000     4.420000   18.000000   \n",
       "50%       3.710000    3.570000  179.650000     7.780000   21.105000   \n",
       "75%       4.700000    5.400000  271.452500    10.285000   41.350000   \n",
       "max     324.000000   56.000000  631.140000   512.000000  363.500000   \n",
       "\n",
       "       random-blood-glucose-rbg  lower lumbs swelling  pervic pain  \\\n",
       "count                       0.0                   3.0          3.0   \n",
       "mean                        NaN                   1.0          1.0   \n",
       "std                         NaN                   0.0          0.0   \n",
       "min                         NaN                   1.0          1.0   \n",
       "25%                         NaN                   1.0          1.0   \n",
       "50%                         NaN                   1.0          1.0   \n",
       "75%                         NaN                   1.0          1.0   \n",
       "max                         NaN                   1.0          1.0   \n",
       "\n",
       "       polpitations  \n",
       "count           3.0  \n",
       "mean            1.0  \n",
       "std             0.0  \n",
       "min             1.0  \n",
       "25%             1.0  \n",
       "50%             1.0  \n",
       "75%             1.0  \n",
       "max             1.0  "
      ]
     },
     "execution_count": 4,
     "metadata": {},
     "output_type": "execute_result"
    }
   ],
   "source": [
    "cancer.describe()"
   ]
  },
  {
   "cell_type": "code",
   "execution_count": 4,
   "metadata": {
    "scrolled": true
   },
   "outputs": [],
   "source": [
    "#profile = ProfileReport(cancer)\n",
    "#profile"
   ]
  },
  {
   "cell_type": "code",
   "execution_count": null,
   "metadata": {},
   "outputs": [],
   "source": []
  },
  {
   "cell_type": "code",
   "execution_count": 5,
   "metadata": {},
   "outputs": [],
   "source": [
    "cancer.drop(['Unnamed: 0','random-blood-glucose-rbg','date','height','symptomDuration','symptoms','tests',\n",
    "             'weight','alt','ph','ast','bilirubin','epithelial','protein','urea','uric-acid','hpv','mri',\n",
    "'weight loss','nausea','pain during sexual intercourse','vomiting',\n",
    "'difficulty passing stool','fever','cough','difficulty micturation','chest pain',\n",
    "'lower back pain','frequent micturation','lower limbs swelling','fatigue','swelling','rectal bleeding','constipation',\n",
    "'difficulty in breathing','occasional painful defecation',\n",
    "'blood in urine','headache','palpitations','vulva itching','vaginal pain',\n",
    "'spot bleeding','metromenorrhagia','lower lumbs swelling','pervic pain','polpitations','creatinine'], axis=1, inplace=True)"
   ]
  },
  {
   "cell_type": "code",
   "execution_count": 6,
   "metadata": {},
   "outputs": [
    {
     "data": {
      "text/plain": [
       "True     999\n",
       "False    848\n",
       "Name: cervicalCancer, dtype: int64"
      ]
     },
     "execution_count": 6,
     "metadata": {},
     "output_type": "execute_result"
    }
   ],
   "source": [
    " cancer['cervicalCancer'].value_counts()"
   ]
  },
  {
   "cell_type": "code",
   "execution_count": 7,
   "metadata": {},
   "outputs": [],
   "source": [
    "# cancer.loc[cancer['cervicalCancer'] == False]"
   ]
  },
  {
   "cell_type": "code",
   "execution_count": 8,
   "metadata": {},
   "outputs": [],
   "source": [
    "# cancer.dtypes"
   ]
  },
  {
   "cell_type": "code",
   "execution_count": 9,
   "metadata": {
    "scrolled": true
   },
   "outputs": [],
   "source": [
    "# #none are highly frequency\n",
    "# # cancer['existing_conditions'].value_counts()\n",
    "# cancer.fillna(cancer.mean(),inplace=True)"
   ]
  },
  {
   "cell_type": "code",
   "execution_count": 10,
   "metadata": {},
   "outputs": [],
   "source": [
    "cancer['age'].replace('    38', 38, inplace = True) "
   ]
  },
  {
   "cell_type": "code",
   "execution_count": 11,
   "metadata": {},
   "outputs": [],
   "source": [
    "cancer['age'].replace('?', np.nan,inplace = True)\n",
    "#drop height column\n",
    "#cancer['symptoms'].value_counts()"
   ]
  },
  {
   "cell_type": "code",
   "execution_count": 12,
   "metadata": {},
   "outputs": [],
   "source": [
    "cancer['age'].replace('4637',46, inplace = True)"
   ]
  },
  {
   "cell_type": "code",
   "execution_count": 13,
   "metadata": {},
   "outputs": [],
   "source": [
    "cancer['age'].replace(' 52', 52, inplace = True)"
   ]
  },
  {
   "cell_type": "code",
   "execution_count": 14,
   "metadata": {},
   "outputs": [],
   "source": [
    "cancer['age'].replace('A- D', np.nan, inplace = True)\n",
    " "
   ]
  },
  {
   "cell_type": "code",
   "execution_count": 15,
   "metadata": {},
   "outputs": [],
   "source": [
    "# cancer['age'].unique()"
   ]
  },
  {
   "cell_type": "code",
   "execution_count": 16,
   "metadata": {},
   "outputs": [],
   "source": [
    "# cancer['age'].value_counts()"
   ]
  },
  {
   "cell_type": "code",
   "execution_count": 17,
   "metadata": {},
   "outputs": [
    {
     "data": {
      "text/plain": [
       "52.69885433715221"
      ]
     },
     "execution_count": 17,
     "metadata": {},
     "output_type": "execute_result"
    }
   ],
   "source": [
    "cancer['age']=cancer['age'].astype(float)\n",
    "cancer['age'].mean()"
   ]
  },
  {
   "cell_type": "code",
   "execution_count": 18,
   "metadata": {},
   "outputs": [],
   "source": [
    "cancer['age'].replace(np.nan,52.68,inplace=True)"
   ]
  },
  {
   "cell_type": "code",
   "execution_count": 19,
   "metadata": {},
   "outputs": [
    {
     "data": {
      "text/plain": [
       "0"
      ]
     },
     "execution_count": 19,
     "metadata": {},
     "output_type": "execute_result"
    }
   ],
   "source": [
    "cancer['age'].isnull().sum()"
   ]
  },
  {
   "cell_type": "code",
   "execution_count": 20,
   "metadata": {},
   "outputs": [],
   "source": [
    "cancer['cervicalCancer'].replace(True,1,inplace=True)"
   ]
  },
  {
   "cell_type": "code",
   "execution_count": 21,
   "metadata": {},
   "outputs": [],
   "source": [
    "cancer['cervicalCancer'].replace(False,0,inplace=True)"
   ]
  },
  {
   "cell_type": "code",
   "execution_count": 22,
   "metadata": {},
   "outputs": [
    {
     "data": {
      "text/plain": [
       "0"
      ]
     },
     "execution_count": 22,
     "metadata": {},
     "output_type": "execute_result"
    }
   ],
   "source": [
    "cancer['cervicalCancer'].isnull().sum()"
   ]
  },
  {
   "cell_type": "code",
   "execution_count": 23,
   "metadata": {},
   "outputs": [],
   "source": [
    "# cancer['children'].value_counts()"
   ]
  },
  {
   "cell_type": "code",
   "execution_count": 24,
   "metadata": {},
   "outputs": [
    {
     "data": {
      "text/plain": [
       "630"
      ]
     },
     "execution_count": 24,
     "metadata": {},
     "output_type": "execute_result"
    }
   ],
   "source": [
    "cancer['children'].replace('unknown',np.nan,inplace=True)\n",
    "cancer['children'].replace('7+',7,inplace=True)\n",
    "cancer['children'].isnull().sum()"
   ]
  },
  {
   "cell_type": "code",
   "execution_count": 25,
   "metadata": {},
   "outputs": [
    {
     "data": {
      "text/plain": [
       "5.531635168447001"
      ]
     },
     "execution_count": 25,
     "metadata": {},
     "output_type": "execute_result"
    }
   ],
   "source": [
    "cancer['children']=cancer['children'].astype(float)\n",
    "cancer['children'].mean()"
   ]
  },
  {
   "cell_type": "code",
   "execution_count": 26,
   "metadata": {},
   "outputs": [
    {
     "data": {
      "text/plain": [
       "0"
      ]
     },
     "execution_count": 26,
     "metadata": {},
     "output_type": "execute_result"
    }
   ],
   "source": [
    "cancer['children'].replace(np.nan,4.75,inplace=True)\n",
    "cancer['children'].isnull().sum()"
   ]
  },
  {
   "cell_type": "code",
   "execution_count": 27,
   "metadata": {},
   "outputs": [],
   "source": [
    "cancer['children'].replace(7.00,'7+',inplace=True)"
   ]
  },
  {
   "cell_type": "code",
   "execution_count": 28,
   "metadata": {},
   "outputs": [],
   "source": [
    "# cancer['cervicalCancerType'].unique()"
   ]
  },
  {
   "cell_type": "code",
   "execution_count": 29,
   "metadata": {},
   "outputs": [],
   "source": [
    "# cancer['cervicalCancerType'].value_counts()"
   ]
  },
  {
   "cell_type": "code",
   "execution_count": 30,
   "metadata": {},
   "outputs": [],
   "source": [
    "cancer['cervicalCancerType'].replace('?','squamous',inplace=True)\n"
   ]
  },
  {
   "cell_type": "code",
   "execution_count": 31,
   "metadata": {},
   "outputs": [
    {
     "data": {
      "text/plain": [
       "0"
      ]
     },
     "execution_count": 31,
     "metadata": {},
     "output_type": "execute_result"
    }
   ],
   "source": [
    "cancer['cervicalCancerType'].isnull().sum()"
   ]
  },
  {
   "cell_type": "code",
   "execution_count": 32,
   "metadata": {},
   "outputs": [
    {
     "data": {
      "text/plain": [
       "421"
      ]
     },
     "execution_count": 32,
     "metadata": {},
     "output_type": "execute_result"
    }
   ],
   "source": [
    "cancer['existing_conditions'].isnull().sum()"
   ]
  },
  {
   "cell_type": "code",
   "execution_count": 33,
   "metadata": {},
   "outputs": [],
   "source": [
    "# cancer['existing_conditions'].value_counts()"
   ]
  },
  {
   "cell_type": "code",
   "execution_count": 34,
   "metadata": {},
   "outputs": [],
   "source": [
    "cancer['existing_conditions'].replace(np.nan,\"['none']\",inplace=True)\n",
    "# cancer['existing_conditions'].value_counts()"
   ]
  },
  {
   "cell_type": "code",
   "execution_count": 35,
   "metadata": {},
   "outputs": [],
   "source": [
    "# cancer['region'].value_counts()"
   ]
  },
  {
   "cell_type": "code",
   "execution_count": 36,
   "metadata": {},
   "outputs": [],
   "source": [
    "cancer['region'].replace(np.nan,'Dar Es Salaam',inplace=True)"
   ]
  },
  {
   "cell_type": "code",
   "execution_count": 37,
   "metadata": {},
   "outputs": [
    {
     "data": {
      "text/plain": [
       "array(['no', 'unknown', 'yes'], dtype=object)"
      ]
     },
     "execution_count": 37,
     "metadata": {},
     "output_type": "execute_result"
    }
   ],
   "source": [
    "cancer['smokes'].unique()"
   ]
  },
  {
   "cell_type": "code",
   "execution_count": 38,
   "metadata": {},
   "outputs": [],
   "source": [
    "cancer['temperature'].replace(' ',np.nan,inplace=True)\n",
    "cancer['temperature'].replace('?',np.nan,inplace=True)"
   ]
  },
  {
   "cell_type": "code",
   "execution_count": 39,
   "metadata": {},
   "outputs": [],
   "source": [
    "cancer['temperature']=cancer['temperature'].astype(float)\n",
    "#cancer['temperature'].unique()\n",
    "#cancer['temperature'].mean()"
   ]
  },
  {
   "cell_type": "code",
   "execution_count": 40,
   "metadata": {},
   "outputs": [],
   "source": [
    "cancer['temperature'].replace(np.nan,36.23,inplace=True)"
   ]
  },
  {
   "cell_type": "code",
   "execution_count": 41,
   "metadata": {},
   "outputs": [],
   "source": [
    "# cancer['creatinine'].isnull().sum()"
   ]
  },
  {
   "cell_type": "code",
   "execution_count": 42,
   "metadata": {},
   "outputs": [],
   "source": [
    "# cancer.loc[cancer['cervicalCancer'] == False]"
   ]
  },
  {
   "cell_type": "code",
   "execution_count": 43,
   "metadata": {},
   "outputs": [],
   "source": [
    "cancer['hiv'].fillna(False,inplace=True)"
   ]
  },
  {
   "cell_type": "code",
   "execution_count": 44,
   "metadata": {},
   "outputs": [],
   "source": [
    "cancer['temperature'].replace('37.  ',37, inplace=True)"
   ]
  },
  {
   "cell_type": "code",
   "execution_count": 45,
   "metadata": {},
   "outputs": [],
   "source": [
    "cancer['prolonged vaginal bleeding'].fillna(False,inplace=True)"
   ]
  },
  {
   "cell_type": "code",
   "execution_count": 46,
   "metadata": {},
   "outputs": [],
   "source": [
    "cancer['back pain'].fillna(False,inplace=True)"
   ]
  },
  {
   "cell_type": "code",
   "execution_count": 47,
   "metadata": {},
   "outputs": [],
   "source": [
    "cancer['abdominal pain'].fillna(False,inplace=True)"
   ]
  },
  {
   "cell_type": "code",
   "execution_count": 48,
   "metadata": {},
   "outputs": [],
   "source": [
    "cancer['vaginal discharge'].fillna(False,inplace=True)"
   ]
  },
  {
   "cell_type": "code",
   "execution_count": 49,
   "metadata": {},
   "outputs": [],
   "source": [
    "cancer['abnormal bleeding'].fillna(False,inplace=True)"
   ]
  },
  {
   "cell_type": "code",
   "execution_count": 50,
   "metadata": {},
   "outputs": [],
   "source": [
    "cancer['lower abdominal pain'].fillna(False,inplace=True)"
   ]
  },
  {
   "cell_type": "code",
   "execution_count": 51,
   "metadata": {},
   "outputs": [],
   "source": [
    "cancer['yellowish vaginal discharge'].fillna(False,inplace=True)"
   ]
  },
  {
   "cell_type": "code",
   "execution_count": 52,
   "metadata": {},
   "outputs": [],
   "source": [
    "cancer['post menopausal bleeding'].fillna(False,inplace=True)"
   ]
  },
  {
   "cell_type": "code",
   "execution_count": 53,
   "metadata": {},
   "outputs": [],
   "source": [
    "cancer['prolonged vaginal watery discharge'].fillna(False,inplace=True)"
   ]
  },
  {
   "cell_type": "code",
   "execution_count": 54,
   "metadata": {},
   "outputs": [],
   "source": [
    "cancer['pelvic pain'].fillna(False,inplace=True)"
   ]
  },
  {
   "cell_type": "code",
   "execution_count": 55,
   "metadata": {},
   "outputs": [],
   "source": [
    "cancer['waist pain'].fillna(False,inplace=True)"
   ]
  },
  {
   "cell_type": "code",
   "execution_count": null,
   "metadata": {},
   "outputs": [],
   "source": []
  },
  {
   "cell_type": "code",
   "execution_count": 56,
   "metadata": {},
   "outputs": [],
   "source": [
    "cancer['foul smelling discharge'].fillna(False,inplace=True)"
   ]
  },
  {
   "cell_type": "code",
   "execution_count": 57,
   "metadata": {},
   "outputs": [],
   "source": [
    "cancer['post coital bleeding'].fillna(False,inplace=True)"
   ]
  },
  {
   "cell_type": "code",
   "execution_count": 58,
   "metadata": {},
   "outputs": [],
   "source": [
    "# data_report = ProfileReport(cancer)"
   ]
  },
  {
   "cell_type": "code",
   "execution_count": 59,
   "metadata": {},
   "outputs": [],
   "source": [
    "# import seaborn as sns\n",
    "\n",
    "# plt.figure(figsize=(10,9))\n",
    "# sns.heatmap(cancer.corr(),annot=True,cmap='winter')"
   ]
  },
  {
   "cell_type": "code",
   "execution_count": null,
   "metadata": {},
   "outputs": [],
   "source": []
  },
  {
   "cell_type": "code",
   "execution_count": 60,
   "metadata": {},
   "outputs": [],
   "source": [
    "cancer['baso'].replace(np.nan,cancer['baso'].mean(),inplace=True)"
   ]
  },
  {
   "cell_type": "code",
   "execution_count": 61,
   "metadata": {},
   "outputs": [],
   "source": [
    "cancer['eos'].replace(np.nan,cancer['eos'].mean(),inplace=True)"
   ]
  },
  {
   "cell_type": "code",
   "execution_count": 62,
   "metadata": {},
   "outputs": [],
   "source": [
    "cancer['hb'].replace(np.nan,cancer['hb'].mean(),inplace=True)"
   ]
  },
  {
   "cell_type": "code",
   "execution_count": 63,
   "metadata": {},
   "outputs": [],
   "source": [
    "cancer['mch'].replace(np.nan,cancer['mch'].mean(),inplace=True)"
   ]
  },
  {
   "cell_type": "code",
   "execution_count": 64,
   "metadata": {},
   "outputs": [],
   "source": [
    "cancer['neutrophil'].replace(np.nan,cancer['neutrophil'].mean(),inplace=True)"
   ]
  },
  {
   "cell_type": "code",
   "execution_count": 65,
   "metadata": {},
   "outputs": [],
   "source": [
    "cancer['plt'].replace(np.nan,cancer['plt'].mean(),inplace=True)"
   ]
  },
  {
   "cell_type": "code",
   "execution_count": 66,
   "metadata": {},
   "outputs": [],
   "source": [
    "cancer['rbc'].replace(np.nan,cancer['rbc'].mean(),inplace=True)"
   ]
  },
  {
   "cell_type": "code",
   "execution_count": 67,
   "metadata": {},
   "outputs": [],
   "source": [
    "cancer['wbc'].replace(np.nan,cancer['wbc'].mean(),inplace=True)"
   ]
  },
  {
   "cell_type": "code",
   "execution_count": 68,
   "metadata": {},
   "outputs": [],
   "source": [
    "cancer['chest-x-ray'].replace(np.nan,False,inplace=True)"
   ]
  },
  {
   "cell_type": "code",
   "execution_count": 69,
   "metadata": {},
   "outputs": [],
   "source": [
    "cancer['ultrasound'].replace(np.nan,False,inplace=True)"
   ]
  },
  {
   "cell_type": "code",
   "execution_count": 70,
   "metadata": {},
   "outputs": [],
   "source": [
    "cancer['mcv'].replace(np.nan,cancer['mcv'].mean(),inplace=True)"
   ]
  },
  {
   "cell_type": "code",
   "execution_count": 71,
   "metadata": {},
   "outputs": [],
   "source": [
    "cancer['lymphocyte'].replace(np.nan,cancer['lymphocyte'].mean(),inplace=True)"
   ]
  },
  {
   "cell_type": "code",
   "execution_count": 72,
   "metadata": {},
   "outputs": [],
   "source": [
    "# cancer['lymphocyte'].value_counts()"
   ]
  },
  {
   "cell_type": "code",
   "execution_count": 73,
   "metadata": {},
   "outputs": [
    {
     "data": {
      "text/plain": [
       "array([False,  True])"
      ]
     },
     "execution_count": 73,
     "metadata": {},
     "output_type": "execute_result"
    }
   ],
   "source": [
    "cancer['chest-x-ray'].unique()"
   ]
  },
  {
   "cell_type": "code",
   "execution_count": null,
   "metadata": {},
   "outputs": [],
   "source": []
  },
  {
   "cell_type": "code",
   "execution_count": 74,
   "metadata": {},
   "outputs": [
    {
     "ename": "NameError",
     "evalue": "name 'ProfileReport' is not defined",
     "output_type": "error",
     "traceback": [
      "\u001b[0;31m---------------------------------------------------------------------------\u001b[0m",
      "\u001b[0;31mNameError\u001b[0m                                 Traceback (most recent call last)",
      "\u001b[0;32m<ipython-input-74-e953dc271357>\u001b[0m in \u001b[0;36m<module>\u001b[0;34m\u001b[0m\n\u001b[0;32m----> 1\u001b[0;31m \u001b[0mdata_report\u001b[0m \u001b[0;34m=\u001b[0m \u001b[0mProfileReport\u001b[0m\u001b[0;34m(\u001b[0m\u001b[0mcancer\u001b[0m\u001b[0;34m)\u001b[0m\u001b[0;34m\u001b[0m\u001b[0;34m\u001b[0m\u001b[0m\n\u001b[0m",
      "\u001b[0;31mNameError\u001b[0m: name 'ProfileReport' is not defined"
     ]
    }
   ],
   "source": [
    "data_report = ProfileReport(cancer)"
   ]
  },
  {
   "cell_type": "code",
   "execution_count": 75,
   "metadata": {},
   "outputs": [
    {
     "ename": "NameError",
     "evalue": "name 'data_report' is not defined",
     "output_type": "error",
     "traceback": [
      "\u001b[0;31m---------------------------------------------------------------------------\u001b[0m",
      "\u001b[0;31mNameError\u001b[0m                                 Traceback (most recent call last)",
      "\u001b[0;32m<ipython-input-75-d94df5fe4025>\u001b[0m in \u001b[0;36m<module>\u001b[0;34m\u001b[0m\n\u001b[0;32m----> 1\u001b[0;31m \u001b[0mdata_report\u001b[0m\u001b[0;34m\u001b[0m\u001b[0;34m\u001b[0m\u001b[0m\n\u001b[0m",
      "\u001b[0;31mNameError\u001b[0m: name 'data_report' is not defined"
     ]
    }
   ],
   "source": [
    "data_report"
   ]
  },
  {
   "cell_type": "code",
   "execution_count": null,
   "metadata": {},
   "outputs": [],
   "source": []
  },
  {
   "cell_type": "code",
   "execution_count": 76,
   "metadata": {},
   "outputs": [],
   "source": [
    "# cancer=pd.get_dumies(cancer)\n",
    "cancer = pd.get_dummies(cancer)"
   ]
  },
  {
   "cell_type": "code",
   "execution_count": 77,
   "metadata": {},
   "outputs": [],
   "source": [
    "# cancer.loc[cancer['cervicalCancer'] == False]"
   ]
  },
  {
   "cell_type": "code",
   "execution_count": 78,
   "metadata": {},
   "outputs": [
    {
     "data": {
      "text/plain": [
       "1.0    999\n",
       "0.0    848\n",
       "Name: cervicalCancer, dtype: int64"
      ]
     },
     "execution_count": 78,
     "metadata": {},
     "output_type": "execute_result"
    }
   ],
   "source": [
    "cancer['cervicalCancer'].value_counts()"
   ]
  },
  {
   "cell_type": "code",
   "execution_count": 79,
   "metadata": {},
   "outputs": [],
   "source": [
    "feature= cancer.drop(columns='cervicalCancer')\n",
    "target= cancer['cervicalCancer'].copy()"
   ]
  },
  {
   "cell_type": "code",
   "execution_count": 80,
   "metadata": {},
   "outputs": [],
   "source": [
    "from sklearn.model_selection import train_test_split\n",
    "from sklearn.metrics import confusion_matrix\n",
    "X_train, X_test, y_train, y_test = train_test_split(feature, target, test_size=0.7, random_state=10)"
   ]
  },
  {
   "cell_type": "code",
   "execution_count": 83,
   "metadata": {},
   "outputs": [
    {
     "name": "stdout",
     "output_type": "stream",
     "text": [
      "    age  temperature   baso    eos    hb  lymphocyte        mch    mcv  \\\n",
      "0  40.0        40.00  10.00  10.00  10.0        10.0  23.997805   10.0   \n",
      "1  36.0        36.23   0.30   2.20   8.8        34.9  19.000000   74.4   \n",
      "2  40.0        36.23   0.10   3.50  10.6        43.6  19.700000   74.7   \n",
      "3  48.0        36.23   0.10   0.90   6.2        15.3  22.000000   75.0   \n",
      "4  55.0        36.23   0.44   1.12  12.6        12.7  32.900000  108.0   \n",
      "\n",
      "   neutrophil    plt    rbc    wbc  chest-x-ray    hiv  ultrasound  \\\n",
      "0   10.000000   10.0  10.00  10.00        False  False        True   \n",
      "1   65.561628  303.0   4.61   5.26        False  False       False   \n",
      "2   65.561628  235.0   5.37   7.16        False  False       False   \n",
      "3   65.561628  374.0   2.79  15.21        False  False        True   \n",
      "4   77.700000  193.0   3.56   6.58        False   True        True   \n",
      "\n",
      "   prolonged vaginal bleeding  back pain  abdominal pain  vaginal discharge  \\\n",
      "0                        True      False            True              False   \n",
      "1                        True       True           False              False   \n",
      "2                        True      False           False              False   \n",
      "3                        True      False            True              False   \n",
      "4                        True      False           False              False   \n",
      "\n",
      "   abnormal bleeding  lower abdominal pain  post menopausal bleeding  \\\n",
      "0              False                 False                     False   \n",
      "1              False                 False                     False   \n",
      "2              False                 False                     False   \n",
      "3              False                 False                     False   \n",
      "4              False                 False                     False   \n",
      "\n",
      "   prolonged vaginal watery discharge  waist pain  pelvic pain  \\\n",
      "0                               False       False        False   \n",
      "1                               False       False        False   \n",
      "2                               False       False        False   \n",
      "3                               False       False        False   \n",
      "4                               False       False        False   \n",
      "\n",
      "   yellowish vaginal discharge  foul smelling discharge  post coital bleeding  \\\n",
      "0                        False                    False                 False   \n",
      "1                        False                    False                 False   \n",
      "2                        False                    False                 False   \n",
      "3                        False                    False                 False   \n",
      "4                        False                    False                 False   \n",
      "\n",
      "   alcohol_no  alcohol_unknown  alcohol_yes  \\\n",
      "0           1                0            0   \n",
      "1           0                1            0   \n",
      "2           1                0            0   \n",
      "3           1                0            0   \n",
      "4           1                0            0   \n",
      "\n",
      "   cervicalCancerType_adenocarcinoma  cervicalCancerType_differentiated  \\\n",
      "0                                  1                                  0   \n",
      "1                                  0                                  0   \n",
      "2                                  0                                  0   \n",
      "3                                  0                                  0   \n",
      "4                                  0                                  0   \n",
      "\n",
      "   cervicalCancerType_metastatic  cervicalCancerType_small-cell  \\\n",
      "0                              0                              0   \n",
      "1                              0                              0   \n",
      "2                              0                              0   \n",
      "3                              0                              0   \n",
      "4                              0                              0   \n",
      "\n",
      "   cervicalCancerType_squamous  cervicalCancerType_undifferentiated  \\\n",
      "0                            0                                    0   \n",
      "1                            1                                    0   \n",
      "2                            1                                    0   \n",
      "3                            1                                    0   \n",
      "4                            1                                    0   \n",
      "\n",
      "   children_0.0  children_1.0  children_2.0  children_3.0  children_4.0  \\\n",
      "0             0             0             0             0             0   \n",
      "1             0             0             0             0             0   \n",
      "2             0             0             0             0             1   \n",
      "3             0             0             0             0             0   \n",
      "4             0             0             0             0             0   \n",
      "\n",
      "   children_4.75  children_5.0  children_6.0  children_7+  \\\n",
      "0              0             0             0            1   \n",
      "1              0             0             0            1   \n",
      "2              0             0             0            0   \n",
      "3              0             0             0            1   \n",
      "4              1             0             0            0   \n",
      "\n",
      "   existing_conditions_['diabetes', 'none']  existing_conditions_['diabetes']  \\\n",
      "0                                         0                                 0   \n",
      "1                                         0                                 0   \n",
      "2                                         0                                 0   \n",
      "3                                         0                                 0   \n",
      "4                                         0                                 0   \n",
      "\n",
      "   existing_conditions_['hypertension', 'diabetes', 'none']  \\\n",
      "0                                                  0          \n",
      "1                                                  0          \n",
      "2                                                  0          \n",
      "3                                                  0          \n",
      "4                                                  0          \n",
      "\n",
      "   existing_conditions_['hypertension', 'diabetes', 'tb', 'none']  \\\n",
      "0                                                  0                \n",
      "1                                                  0                \n",
      "2                                                  0                \n",
      "3                                                  0                \n",
      "4                                                  0                \n",
      "\n",
      "   existing_conditions_['hypertension', 'diabetes']  \\\n",
      "0                                                 0   \n",
      "1                                                 0   \n",
      "2                                                 0   \n",
      "3                                                 0   \n",
      "4                                                 0   \n",
      "\n",
      "   existing_conditions_['hypertension', 'none']  \\\n",
      "0                                             0   \n",
      "1                                             0   \n",
      "2                                             0   \n",
      "3                                             0   \n",
      "4                                             0   \n",
      "\n",
      "   existing_conditions_['hypertension']  existing_conditions_['none']  \\\n",
      "0                                     0                             1   \n",
      "1                                     0                             1   \n",
      "2                                     0                             1   \n",
      "3                                     0                             1   \n",
      "4                                     0                             1   \n",
      "\n",
      "   existing_conditions_['other-cancers', 'none']  \\\n",
      "0                                              0   \n",
      "1                                              0   \n",
      "2                                              0   \n",
      "3                                              0   \n",
      "4                                              0   \n",
      "\n",
      "   existing_conditions_['other-cancers']  family_history_no  \\\n",
      "0                                      0                  1   \n",
      "1                                      0                  0   \n",
      "2                                      0                  1   \n",
      "3                                      0                  0   \n",
      "4                                      0                  1   \n",
      "\n",
      "   family_history_unknown  family_history_yes  gender_female  region_Arusha  \\\n",
      "0                       0                   0              1              0   \n",
      "1                       1                   0              1              0   \n",
      "2                       0                   0              1              0   \n",
      "3                       1                   0              1              0   \n",
      "4                       0                   0              1              0   \n",
      "\n",
      "   region_Babati  region_Bukoba  region_Dar Es Salaam  region_Dodoma  \\\n",
      "0              0              0                     1              0   \n",
      "1              0              0                     0              0   \n",
      "2              0              0                     1              0   \n",
      "3              0              0                     0              1   \n",
      "4              0              0                     1              0   \n",
      "\n",
      "   region_Geita  region_Handeni  region_Iringa  region_Kagera  region_Kahama  \\\n",
      "0             0               0              0              0              0   \n",
      "1             0               0              0              0              0   \n",
      "2             0               0              0              0              0   \n",
      "3             0               0              0              0              0   \n",
      "4             0               0              0              0              0   \n",
      "\n",
      "   region_Kasulu  region_Katavi  region_Kibaha  region_Kigoma  \\\n",
      "0              0              0              0              0   \n",
      "1              0              0              0              0   \n",
      "2              0              0              0              0   \n",
      "3              0              0              0              0   \n",
      "4              0              0              0              0   \n",
      "\n",
      "   region_Kilimanjaro  region_Lindi  region_Manyara  region_Mara  \\\n",
      "0                   0             0               0            0   \n",
      "1                   0             0               0            0   \n",
      "2                   0             0               0            0   \n",
      "3                   0             0               0            0   \n",
      "4                   0             0               0            0   \n",
      "\n",
      "   region_Mbeya  region_Morogoro  region_Moshi  region_Mpanda  region_Mtwara  \\\n",
      "0             0                0             0              0              0   \n",
      "1             0                0             0              0              0   \n",
      "2             0                0             0              0              0   \n",
      "3             0                0             0              0              0   \n",
      "4             0                0             0              0              0   \n",
      "\n",
      "   region_Musoma  region_Mwanza  region_Njombe  region_Other  region_Pwani  \\\n",
      "0              0              0              0             0             0   \n",
      "1              0              0              0             0             0   \n",
      "2              0              0              0             0             0   \n",
      "3              0              0              0             0             0   \n",
      "4              0              0              0             0             0   \n",
      "\n",
      "   region_Rukwa  region_Ruvuma  region_Shinyanga  region_Simiyu  \\\n",
      "0             0              0                 0              0   \n",
      "1             0              0                 1              0   \n",
      "2             0              0                 0              0   \n",
      "3             0              0                 0              0   \n",
      "4             0              0                 0              0   \n",
      "\n",
      "   region_Singida  region_Sumbawanga  region_Tabora  region_Tanga  \\\n",
      "0               0                  0              0             0   \n",
      "1               0                  0              0             0   \n",
      "2               0                  0              0             0   \n",
      "3               0                  0              0             0   \n",
      "4               0                  0              0             0   \n",
      "\n",
      "   region_Zanzibar  smokes_no  smokes_unknown  smokes_yes  \n",
      "0                0          1               0           0  \n",
      "1                0          0               1           0  \n",
      "2                0          1               0           0  \n",
      "3                0          1               0           0  \n",
      "4                0          1               0           0  \n"
     ]
    }
   ],
   "source": [
    "print(feature.head())"
   ]
  },
  {
   "cell_type": "code",
   "execution_count": 84,
   "metadata": {},
   "outputs": [],
   "source": [
    "from sklearn.metrics import confusion_matrix\n"
   ]
  },
  {
   "cell_type": "markdown",
   "metadata": {},
   "source": [
    "# Evaluation"
   ]
  },
  {
   "cell_type": "code",
   "execution_count": null,
   "metadata": {},
   "outputs": [],
   "source": [
    "\n",
    "#models = []\n",
    "# models.append(( KNeighborsClassifier(3)))\n",
    "# models.append(( RandomForestClassifier(n_estimators=100)))\n",
    "# models.append(( SVC(gamma=3, C=1)))\n",
    "\n",
    "# # Evaluations\n",
    "# df_out = pd.DataFrame({ 'model':[],'Train_score':[], \n",
    "#                     'Test_score':[]}) \n",
    "# modlist = ['KNeighborsClassifier','RandomForestClassifier','SVC']\n",
    "# poi=0\n",
    "# i=0\n",
    "# for item in models:\n",
    "#     mymodel=item\n",
    "#     mymodel.fit(X_train,y_train)\n",
    "#     training=mymodel.score(X_train,y_train)*100\n",
    "#     testing=mymodel.score(X_test,y_test)*100\n",
    "#     y_pred=mymodel.predict(X_test)\n",
    "#     print(modlist[i])\n",
    "#     print('Train Score:',training)\n",
    "#     print('Test Score:',testing)\n",
    "#     print('Classification Report:' +'\\n'+'\\n'+ classification_report(y_test,y_pred))\n",
    "#     print('CONFUSION MATRIX'+'\\n',confusion_matrix(y_test, y_pred))\n",
    "#     print('\\n'+ '\\n')\n",
    "#    # Add a new row at index position 2 with values provided in list\n",
    "#    #df_out.loc[poi] = [modlist[poi],training, testing]\n",
    "#     poi+=1\n",
    "#     i+=1\n",
    "  "
   ]
  },
  {
   "cell_type": "markdown",
   "metadata": {},
   "source": [
    "## Random Forest Classifier"
   ]
  },
  {
   "cell_type": "code",
   "execution_count": 85,
   "metadata": {},
   "outputs": [],
   "source": [
    "model= RandomForestClassifier(n_estimators=100)\n",
    "model.fit(X_train,y_train)\n",
    "training=model.score(X_train,y_train)*100\n",
    "testing=model.score(X_test,y_test)*100\n",
    "ypred=model.predict(X_test)"
   ]
  },
  {
   "cell_type": "code",
   "execution_count": 108,
   "metadata": {},
   "outputs": [
    {
     "name": "stdout",
     "output_type": "stream",
     "text": [
      "[1.]\n",
      "312    1.0\n",
      "Name: cervicalCancer, dtype: float64\n"
     ]
    },
    {
     "data": {
      "text/html": [
       "<div>\n",
       "<style scoped>\n",
       "    .dataframe tbody tr th:only-of-type {\n",
       "        vertical-align: middle;\n",
       "    }\n",
       "\n",
       "    .dataframe tbody tr th {\n",
       "        vertical-align: top;\n",
       "    }\n",
       "\n",
       "    .dataframe thead th {\n",
       "        text-align: right;\n",
       "    }\n",
       "</style>\n",
       "<table border=\"1\" class=\"dataframe\">\n",
       "  <thead>\n",
       "    <tr style=\"text-align: right;\">\n",
       "      <th></th>\n",
       "      <th>age</th>\n",
       "      <th>temperature</th>\n",
       "      <th>baso</th>\n",
       "      <th>eos</th>\n",
       "      <th>hb</th>\n",
       "      <th>lymphocyte</th>\n",
       "      <th>mch</th>\n",
       "      <th>mcv</th>\n",
       "      <th>neutrophil</th>\n",
       "      <th>plt</th>\n",
       "      <th>rbc</th>\n",
       "      <th>wbc</th>\n",
       "      <th>chest-x-ray</th>\n",
       "      <th>hiv</th>\n",
       "      <th>ultrasound</th>\n",
       "      <th>prolonged vaginal bleeding</th>\n",
       "      <th>back pain</th>\n",
       "      <th>abdominal pain</th>\n",
       "      <th>vaginal discharge</th>\n",
       "      <th>abnormal bleeding</th>\n",
       "      <th>lower abdominal pain</th>\n",
       "      <th>post menopausal bleeding</th>\n",
       "      <th>prolonged vaginal watery discharge</th>\n",
       "      <th>waist pain</th>\n",
       "      <th>pelvic pain</th>\n",
       "      <th>yellowish vaginal discharge</th>\n",
       "      <th>foul smelling discharge</th>\n",
       "      <th>post coital bleeding</th>\n",
       "      <th>alcohol_no</th>\n",
       "      <th>alcohol_unknown</th>\n",
       "      <th>alcohol_yes</th>\n",
       "      <th>cervicalCancerType_adenocarcinoma</th>\n",
       "      <th>cervicalCancerType_differentiated</th>\n",
       "      <th>cervicalCancerType_metastatic</th>\n",
       "      <th>cervicalCancerType_small-cell</th>\n",
       "      <th>cervicalCancerType_squamous</th>\n",
       "      <th>cervicalCancerType_undifferentiated</th>\n",
       "      <th>children_0.0</th>\n",
       "      <th>children_1.0</th>\n",
       "      <th>children_2.0</th>\n",
       "      <th>children_3.0</th>\n",
       "      <th>children_4.0</th>\n",
       "      <th>children_4.75</th>\n",
       "      <th>children_5.0</th>\n",
       "      <th>children_6.0</th>\n",
       "      <th>children_7+</th>\n",
       "      <th>existing_conditions_['diabetes', 'none']</th>\n",
       "      <th>existing_conditions_['diabetes']</th>\n",
       "      <th>existing_conditions_['hypertension', 'diabetes', 'none']</th>\n",
       "      <th>existing_conditions_['hypertension', 'diabetes', 'tb', 'none']</th>\n",
       "      <th>existing_conditions_['hypertension', 'diabetes']</th>\n",
       "      <th>existing_conditions_['hypertension', 'none']</th>\n",
       "      <th>existing_conditions_['hypertension']</th>\n",
       "      <th>existing_conditions_['none']</th>\n",
       "      <th>existing_conditions_['other-cancers', 'none']</th>\n",
       "      <th>existing_conditions_['other-cancers']</th>\n",
       "      <th>family_history_no</th>\n",
       "      <th>family_history_unknown</th>\n",
       "      <th>family_history_yes</th>\n",
       "      <th>gender_female</th>\n",
       "      <th>region_Arusha</th>\n",
       "      <th>region_Babati</th>\n",
       "      <th>region_Bukoba</th>\n",
       "      <th>region_Dar Es Salaam</th>\n",
       "      <th>region_Dodoma</th>\n",
       "      <th>region_Geita</th>\n",
       "      <th>region_Handeni</th>\n",
       "      <th>region_Iringa</th>\n",
       "      <th>region_Kagera</th>\n",
       "      <th>region_Kahama</th>\n",
       "      <th>region_Kasulu</th>\n",
       "      <th>region_Katavi</th>\n",
       "      <th>region_Kibaha</th>\n",
       "      <th>region_Kigoma</th>\n",
       "      <th>region_Kilimanjaro</th>\n",
       "      <th>region_Lindi</th>\n",
       "      <th>region_Manyara</th>\n",
       "      <th>region_Mara</th>\n",
       "      <th>region_Mbeya</th>\n",
       "      <th>region_Morogoro</th>\n",
       "      <th>region_Moshi</th>\n",
       "      <th>region_Mpanda</th>\n",
       "      <th>region_Mtwara</th>\n",
       "      <th>region_Musoma</th>\n",
       "      <th>region_Mwanza</th>\n",
       "      <th>region_Njombe</th>\n",
       "      <th>region_Other</th>\n",
       "      <th>region_Pwani</th>\n",
       "      <th>region_Rukwa</th>\n",
       "      <th>region_Ruvuma</th>\n",
       "      <th>region_Shinyanga</th>\n",
       "      <th>region_Simiyu</th>\n",
       "      <th>region_Singida</th>\n",
       "      <th>region_Sumbawanga</th>\n",
       "      <th>region_Tabora</th>\n",
       "      <th>region_Tanga</th>\n",
       "      <th>region_Zanzibar</th>\n",
       "      <th>smokes_no</th>\n",
       "      <th>smokes_unknown</th>\n",
       "      <th>smokes_yes</th>\n",
       "    </tr>\n",
       "  </thead>\n",
       "  <tbody>\n",
       "    <tr>\n",
       "      <th>312</th>\n",
       "      <td>62.0</td>\n",
       "      <td>36.0</td>\n",
       "      <td>0.3</td>\n",
       "      <td>4.6</td>\n",
       "      <td>7.3</td>\n",
       "      <td>20.5</td>\n",
       "      <td>20.2</td>\n",
       "      <td>73.8</td>\n",
       "      <td>66.3</td>\n",
       "      <td>231.0</td>\n",
       "      <td>3.59</td>\n",
       "      <td>7.82</td>\n",
       "      <td>False</td>\n",
       "      <td>False</td>\n",
       "      <td>False</td>\n",
       "      <td>True</td>\n",
       "      <td>False</td>\n",
       "      <td>False</td>\n",
       "      <td>True</td>\n",
       "      <td>True</td>\n",
       "      <td>False</td>\n",
       "      <td>False</td>\n",
       "      <td>False</td>\n",
       "      <td>False</td>\n",
       "      <td>False</td>\n",
       "      <td>False</td>\n",
       "      <td>True</td>\n",
       "      <td>False</td>\n",
       "      <td>0</td>\n",
       "      <td>0</td>\n",
       "      <td>1</td>\n",
       "      <td>0</td>\n",
       "      <td>0</td>\n",
       "      <td>0</td>\n",
       "      <td>0</td>\n",
       "      <td>1</td>\n",
       "      <td>0</td>\n",
       "      <td>0</td>\n",
       "      <td>0</td>\n",
       "      <td>0</td>\n",
       "      <td>0</td>\n",
       "      <td>0</td>\n",
       "      <td>0</td>\n",
       "      <td>0</td>\n",
       "      <td>0</td>\n",
       "      <td>1</td>\n",
       "      <td>0</td>\n",
       "      <td>0</td>\n",
       "      <td>0</td>\n",
       "      <td>0</td>\n",
       "      <td>0</td>\n",
       "      <td>0</td>\n",
       "      <td>0</td>\n",
       "      <td>1</td>\n",
       "      <td>0</td>\n",
       "      <td>0</td>\n",
       "      <td>1</td>\n",
       "      <td>0</td>\n",
       "      <td>0</td>\n",
       "      <td>1</td>\n",
       "      <td>0</td>\n",
       "      <td>0</td>\n",
       "      <td>0</td>\n",
       "      <td>0</td>\n",
       "      <td>0</td>\n",
       "      <td>0</td>\n",
       "      <td>0</td>\n",
       "      <td>0</td>\n",
       "      <td>0</td>\n",
       "      <td>0</td>\n",
       "      <td>0</td>\n",
       "      <td>0</td>\n",
       "      <td>0</td>\n",
       "      <td>0</td>\n",
       "      <td>0</td>\n",
       "      <td>0</td>\n",
       "      <td>0</td>\n",
       "      <td>0</td>\n",
       "      <td>0</td>\n",
       "      <td>0</td>\n",
       "      <td>0</td>\n",
       "      <td>0</td>\n",
       "      <td>0</td>\n",
       "      <td>0</td>\n",
       "      <td>1</td>\n",
       "      <td>0</td>\n",
       "      <td>0</td>\n",
       "      <td>0</td>\n",
       "      <td>0</td>\n",
       "      <td>0</td>\n",
       "      <td>0</td>\n",
       "      <td>0</td>\n",
       "      <td>0</td>\n",
       "      <td>0</td>\n",
       "      <td>0</td>\n",
       "      <td>0</td>\n",
       "      <td>0</td>\n",
       "      <td>1</td>\n",
       "      <td>0</td>\n",
       "      <td>0</td>\n",
       "    </tr>\n",
       "  </tbody>\n",
       "</table>\n",
       "</div>"
      ],
      "text/plain": [
       "      age  temperature  baso  eos   hb  lymphocyte   mch   mcv  neutrophil  \\\n",
       "312  62.0         36.0   0.3  4.6  7.3        20.5  20.2  73.8        66.3   \n",
       "\n",
       "       plt   rbc   wbc  chest-x-ray    hiv  ultrasound  \\\n",
       "312  231.0  3.59  7.82        False  False       False   \n",
       "\n",
       "     prolonged vaginal bleeding  back pain  abdominal pain  vaginal discharge  \\\n",
       "312                        True      False           False               True   \n",
       "\n",
       "     abnormal bleeding  lower abdominal pain  post menopausal bleeding  \\\n",
       "312               True                 False                     False   \n",
       "\n",
       "     prolonged vaginal watery discharge  waist pain  pelvic pain  \\\n",
       "312                               False       False        False   \n",
       "\n",
       "     yellowish vaginal discharge  foul smelling discharge  \\\n",
       "312                        False                     True   \n",
       "\n",
       "     post coital bleeding  alcohol_no  alcohol_unknown  alcohol_yes  \\\n",
       "312                 False           0                0            1   \n",
       "\n",
       "     cervicalCancerType_adenocarcinoma  cervicalCancerType_differentiated  \\\n",
       "312                                  0                                  0   \n",
       "\n",
       "     cervicalCancerType_metastatic  cervicalCancerType_small-cell  \\\n",
       "312                              0                              0   \n",
       "\n",
       "     cervicalCancerType_squamous  cervicalCancerType_undifferentiated  \\\n",
       "312                            1                                    0   \n",
       "\n",
       "     children_0.0  children_1.0  children_2.0  children_3.0  children_4.0  \\\n",
       "312             0             0             0             0             0   \n",
       "\n",
       "     children_4.75  children_5.0  children_6.0  children_7+  \\\n",
       "312              0             0             0            1   \n",
       "\n",
       "     existing_conditions_['diabetes', 'none']  \\\n",
       "312                                         0   \n",
       "\n",
       "     existing_conditions_['diabetes']  \\\n",
       "312                                 0   \n",
       "\n",
       "     existing_conditions_['hypertension', 'diabetes', 'none']  \\\n",
       "312                                                  0          \n",
       "\n",
       "     existing_conditions_['hypertension', 'diabetes', 'tb', 'none']  \\\n",
       "312                                                  0                \n",
       "\n",
       "     existing_conditions_['hypertension', 'diabetes']  \\\n",
       "312                                                 0   \n",
       "\n",
       "     existing_conditions_['hypertension', 'none']  \\\n",
       "312                                             0   \n",
       "\n",
       "     existing_conditions_['hypertension']  existing_conditions_['none']  \\\n",
       "312                                     0                             1   \n",
       "\n",
       "     existing_conditions_['other-cancers', 'none']  \\\n",
       "312                                              0   \n",
       "\n",
       "     existing_conditions_['other-cancers']  family_history_no  \\\n",
       "312                                      0                  1   \n",
       "\n",
       "     family_history_unknown  family_history_yes  gender_female  region_Arusha  \\\n",
       "312                       0                   0              1              0   \n",
       "\n",
       "     region_Babati  region_Bukoba  region_Dar Es Salaam  region_Dodoma  \\\n",
       "312              0              0                     0              0   \n",
       "\n",
       "     region_Geita  region_Handeni  region_Iringa  region_Kagera  \\\n",
       "312             0               0              0              0   \n",
       "\n",
       "     region_Kahama  region_Kasulu  region_Katavi  region_Kibaha  \\\n",
       "312              0              0              0              0   \n",
       "\n",
       "     region_Kigoma  region_Kilimanjaro  region_Lindi  region_Manyara  \\\n",
       "312              0                   0             0               0   \n",
       "\n",
       "     region_Mara  region_Mbeya  region_Morogoro  region_Moshi  region_Mpanda  \\\n",
       "312            0             0                0             0              0   \n",
       "\n",
       "     region_Mtwara  region_Musoma  region_Mwanza  region_Njombe  region_Other  \\\n",
       "312              0              0              1              0             0   \n",
       "\n",
       "     region_Pwani  region_Rukwa  region_Ruvuma  region_Shinyanga  \\\n",
       "312             0             0              0                 0   \n",
       "\n",
       "     region_Simiyu  region_Singida  region_Sumbawanga  region_Tabora  \\\n",
       "312              0               0                  0              0   \n",
       "\n",
       "     region_Tanga  region_Zanzibar  smokes_no  smokes_unknown  smokes_yes  \n",
       "312             0                0          1               0           0  "
      ]
     },
     "execution_count": 108,
     "metadata": {},
     "output_type": "execute_result"
    }
   ],
   "source": [
    "#Predicting a single record\n",
    "test_idx=np.arange(X_test.shape[0])==36\n",
    "\n",
    "npred = model.predict(X_test[test_idx])\n",
    "print(npred)\n",
    "print(y_test[test_idx])\n",
    "X_test[test_idx]\n"
   ]
  },
  {
   "cell_type": "code",
   "execution_count": 86,
   "metadata": {},
   "outputs": [
    {
     "name": "stdout",
     "output_type": "stream",
     "text": [
      "Train Score: 100.0\n",
      "Test Score: 99.61330239752513\n",
      "Classification Report:\n",
      "\n",
      "              precision    recall  f1-score   support\n",
      "\n",
      "         0.0       0.99      1.00      1.00       602\n",
      "         1.0       1.00      0.99      1.00       691\n",
      "\n",
      "   micro avg       1.00      1.00      1.00      1293\n",
      "   macro avg       1.00      1.00      1.00      1293\n",
      "weighted avg       1.00      1.00      1.00      1293\n",
      "\n",
      "CONFUSION MATRIX\n",
      " [[601   1]\n",
      " [  4 687]]\n"
     ]
    }
   ],
   "source": [
    "print('Train Score:',training)\n",
    "print('Test Score:',testing)\n",
    "print('Classification Report:' +'\\n'+'\\n'+ classification_report(y_test,ypred))\n",
    "print('CONFUSION MATRIX'+'\\n',confusion_matrix(y_test, ypred))"
   ]
  },
  {
   "cell_type": "code",
   "execution_count": null,
   "metadata": {},
   "outputs": [],
   "source": [
    "# d4 = {'tcc':y_test, 'cervicalCancer': ypred}\n",
    "# test_predictions4 = pd.DataFrame(data=d4)\n",
    "# test_predictions4 = test_predictions4[['tcc','cervicalCancer']]\n",
    "# #test_predictions4"
   ]
  },
  {
   "cell_type": "markdown",
   "metadata": {},
   "source": [
    "## KnNeighbors Classifier"
   ]
  },
  {
   "cell_type": "code",
   "execution_count": null,
   "metadata": {},
   "outputs": [],
   "source": [
    "knn= KNeighborsClassifier(3)\n",
    "knn.fit(X_train,y_train)\n",
    "trainin=knn.score(X_train,y_train)*100\n",
    "testin=knn.score(X_test,y_test)*100\n",
    "y_pred1=knn.predict(X_test)"
   ]
  },
  {
   "cell_type": "code",
   "execution_count": null,
   "metadata": {},
   "outputs": [],
   "source": [
    "print('Train Score:',trainin)\n",
    "print('Test Score:',testin)\n",
    "print('Classification Report:' +'\\n'+'\\n'+ classification_report(y_test,y_pred1))\n",
    "print('CONFUSION MATRIX'+'\\n',confusion_matrix(y_test, y_pred1))"
   ]
  },
  {
   "cell_type": "code",
   "execution_count": null,
   "metadata": {},
   "outputs": [],
   "source": [
    "#  d = {'tcc':y_test, 'cervicalCancer': y_pred1}\n",
    "# test_predictions = pd.DataFrame(data=d)\n",
    "# test_predictions = test_predictions4[['tcc','cervicalCancer']]\n",
    "# test_predictions.tail()"
   ]
  },
  {
   "cell_type": "code",
   "execution_count": null,
   "metadata": {},
   "outputs": [],
   "source": []
  }
 ],
 "metadata": {
  "kernelspec": {
   "display_name": "Python 3",
   "language": "python",
   "name": "python3"
  },
  "language_info": {
   "codemirror_mode": {
    "name": "ipython",
    "version": 3
   },
   "file_extension": ".py",
   "mimetype": "text/x-python",
   "name": "python",
   "nbconvert_exporter": "python",
   "pygments_lexer": "ipython3",
   "version": "3.7.3"
  }
 },
 "nbformat": 4,
 "nbformat_minor": 2
}
